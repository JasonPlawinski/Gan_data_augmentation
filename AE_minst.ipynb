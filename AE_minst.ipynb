{
 "cells": [
  {
   "cell_type": "code",
   "execution_count": 32,
   "metadata": {
    "collapsed": false
   },
   "outputs": [],
   "source": [
    "import math\n",
    "import pickle\n",
    "import torch\n",
    "import torch.nn as nn\n",
    "import numpy as np\n",
    "import math, random\n",
    "import torchvision\n",
    "from torchvision import datasets, transforms\n",
    "import torch.optim as optim\n",
    "from torch.autograd import Variable\n",
    "import torch.backends.cudnn as cudnn\n",
    "import matplotlib\n",
    "import matplotlib.pyplot as plt"
   ]
  },
  {
   "cell_type": "code",
   "execution_count": 33,
   "metadata": {
    "collapsed": false
   },
   "outputs": [],
   "source": [
    "batch_size = 100\n",
    "\n",
    "mnist_train = datasets.MNIST('./MNIST/', train=True, transform=transforms.ToTensor(), target_transform=None, download=True)\n",
    "mnist_test  = datasets.MNIST('/MNIST/', train=False, transform=transforms.ToTensor(), target_transform=None, download=True)\n",
    "\n",
    "train_loader = torch.utils.data.DataLoader(dataset=mnist_train,batch_size=batch_size,shuffle=True)\n",
    "test_loader = torch.utils.data.DataLoader(dataset=mnist_test,batch_size=1,shuffle=True)"
   ]
  },
  {
   "cell_type": "code",
   "execution_count": 28,
   "metadata": {
    "collapsed": true
   },
   "outputs": [],
   "source": [
    "def Corrupt_image(batch,pCType,Param = [5, 5, 5, 0.2, 0.05, 3, 0]):\n",
    "    ''' Uniform -- Gaussian -- Masking -- Dropout -- Saturation -- Multiplicative -- SuperResoltion\n",
    "    pCType is the ratio of image for a given type\n",
    "    Param is the parameter for a given noise'''\n",
    "    return 0\n",
    "\n",
    "def Corrupt_Gaussian(Image, sigma):\n",
    "    torch.normal(0)"
   ]
  },
  {
   "cell_type": "code",
   "execution_count": 29,
   "metadata": {
    "collapsed": true
   },
   "outputs": [],
   "source": [
    "#Encoder\n",
    "class Q_net(nn.Module):\n",
    "    def __init__(self):\n",
    "        super(Q_net, self).__init__()\n",
    "        self.layers = nn.Sequential(\n",
    "            nn.Linear(X_dim, N),\n",
    "            nn.Dropout(p=prob),\n",
    "            nn.LeakyReLU(0.2, inplace=True),\n",
    "            \n",
    "            nn.Linear(N, N),\n",
    "            nn.Dropout(p=prob),\n",
    "            nn.LeakyReLU(0.2, inplace=True),\n",
    "            \n",
    "            nn.Linear(N, N),\n",
    "            nn.Dropout(p=prob),\n",
    "            nn.LeakyReLU(0.2, inplace=True),\n",
    "            \n",
    "            nn.Linear(N, N),\n",
    "            nn.Dropout(p=prob),\n",
    "            nn.LeakyReLU(0.2, inplace=True),\n",
    "            \n",
    "            nn.Linear(N, N0),\n",
    "            nn.Dropout(p=prob),\n",
    "            nn.LeakyReLU(0.2, inplace=True),\n",
    "            \n",
    "            nn.Linear(N0, z_dim)        \n",
    "            )\n",
    "    def forward(self, x):\n",
    "        xgauss = self.layers(x)\n",
    "        return xgauss\n",
    "    \n",
    "# Decoder\n",
    "class P_net(nn.Module):\n",
    "    def __init__(self):\n",
    "        super(P_net, self).__init__()\n",
    "        self.layers = nn.Sequential(\n",
    "            nn.Linear(z_dim, N0),\n",
    "            nn.Dropout(p=prob),\n",
    "            nn.LeakyReLU(0.2, inplace=True),\n",
    "            \n",
    "            nn.Linear(N0, N),\n",
    "            nn.Dropout(p=prob),\n",
    "            nn.LeakyReLU(0.2, inplace=True),\n",
    "            \n",
    "            nn.Linear(N, N),\n",
    "            nn.Dropout(p=prob),\n",
    "            nn.LeakyReLU(0.2, inplace=True),\n",
    "            \n",
    "            nn.Linear(N, N),\n",
    "            nn.Dropout(p=prob),\n",
    "            nn.LeakyReLU(0.2, inplace=True),\n",
    "            \n",
    "            nn.Linear(N, N),\n",
    "            nn.Dropout(p=prob),\n",
    "            nn.LeakyReLU(0.2, inplace=True),\n",
    "            \n",
    "            nn.Linear(N, X_dim),\n",
    "            nn.Sigmoid()\n",
    "            )\n",
    "    def forward(self, x):\n",
    "        out = self.layers(x)\n",
    "        return out"
   ]
  },
  {
   "cell_type": "code",
   "execution_count": 30,
   "metadata": {
    "collapsed": false,
    "scrolled": false
   },
   "outputs": [
    {
     "name": "stdout",
     "output_type": "stream",
     "text": [
      "Start\n",
      "0 0.0607035\n"
     ]
    },
    {
     "data": {
      "image/png": "[encoded data removed]",
      "text/plain": [
       "<matplotlib.figure.Figure at 0x7fbba155aa90>"
      ]
     },
     "metadata": {},
     "output_type": "display_data"
    },
    {
     "data": {
      "image/png": "[encoded data removed]",
      "text/plain": [
       "<matplotlib.figure.Figure at 0x7fbba14a9128>"
      ]
     },
     "metadata": {},
     "output_type": "display_data"
    },
    {
     "name": "stdout",
     "output_type": "stream",
     "text": [
      "Len list\n",
      "28\n",
      "40\n",
      "55\n",
      "56\n",
      "41\n",
      "27\n"
     ]
    },
    {
     "data": {
      "image/png": "[encoded data removed]",
      "text/plain": [
       "<matplotlib.figure.Figure at 0x7fbba16fff60>"
      ]
     },
     "metadata": {},
     "output_type": "display_data"
    }
   ],
   "source": [
    "prob = 0.2\n",
    "X_dim = 784\n",
    "N = 600\n",
    "N0 = 150\n",
    "z_dim = 2\n",
    "\n",
    "# Set Data Loader(input pipeline)\n",
    "\n",
    "train_loader = torch.utils.data.DataLoader(dataset=mnist_train,batch_size=batch_size,shuffle=True)\n",
    "test_loader = torch.utils.data.DataLoader(dataset=mnist_test,batch_size=1,shuffle=True)\n",
    "\n",
    "\n",
    "torch.manual_seed(10)\n",
    "Q = Q_net()\n",
    "P = P_net()     # Encoder/Decoder\n",
    "\n",
    "Q = Q.cuda()\n",
    "P = P.cuda()\n",
    "# Set learning rates\n",
    "gen_lr, reg_lr = 0.0004, 0.0008\n",
    "# Set optimizators\n",
    "P_decoder = optim.Adam(P.parameters(), lr=gen_lr)\n",
    "Q_encoder = optim.Adam(Q.parameters(), lr=gen_lr)\n",
    "\n",
    "criterionL1 = nn.MSELoss().cuda()\n",
    "\n",
    "TINY = 1e-8\n",
    "LossEpoch = []\n",
    "\n",
    "for i in range(1):\n",
    "    if i ==0:\n",
    "        print('Start')\n",
    "    loss = []\n",
    "    for batch, label in train_loader:\n",
    "        X = batch.view([100,1,784])\n",
    "        X = Variable(X).cuda()\n",
    "        z_sample = Q(X)\n",
    "        X_sample = P(z_sample)\n",
    "        recon_loss = criterionL1(X_sample, X)\n",
    "        P_decoder.zero_grad()\n",
    "        Q_encoder.zero_grad()\n",
    "        recon_loss.backward()\n",
    "        P_decoder.step()\n",
    "        Q_encoder.step()\n",
    "        loss.append(recon_loss.data)\n",
    "    l = np.mean(np.array(loss)).cpu().numpy()\n",
    "    print(i ,l[0])\n",
    "    LossEpoch.append(l)\n",
    "        \n",
    "\n",
    "Q.eval()\n",
    "P.eval()\n",
    "\n",
    "List0x = []\n",
    "List0y = []\n",
    "List1x = []\n",
    "List1y = []\n",
    "List2x = []\n",
    "List2y = []\n",
    "List3x = []\n",
    "List3y = []\n",
    "List4x = []\n",
    "List4y = []\n",
    "List5x = []\n",
    "List5y = []\n",
    "for i in range(400):\n",
    "    pair = iter(test_loader).next()\n",
    "    testimg = pair[0]\n",
    "    label = pair[1]\n",
    "    testimg = Variable(testimg.view([1,784])).cuda()\n",
    "    coor = Q(testimg)\n",
    "    coorformat0 = coor[0][0].data.cpu().numpy()\n",
    "    coorformat1 = coor[0][1].data.cpu().numpy()\n",
    "    label = label.cpu().numpy()[0]\n",
    "    if label == 0:\n",
    "        List0x.append(coorformat0)\n",
    "        List0y.append(coorformat1)\n",
    "    if label == 1:\n",
    "        List1x.append(coorformat0)\n",
    "        List1y.append(coorformat1)\n",
    "    if label == 2:\n",
    "        List2x.append(coorformat0)\n",
    "        List2y.append(coorformat1)\n",
    "    if label == 3:\n",
    "        List3x.append(coorformat0)\n",
    "        List3y.append(coorformat1)\n",
    "    if label == 4:\n",
    "        List4x.append(coorformat0)\n",
    "        List4y.append(coorformat1)\n",
    "    if label == 5:\n",
    "        List5x.append(coorformat0)\n",
    "        List5y.append(coorformat1)\n",
    "\n",
    "        \n",
    "#################################################        \n",
    "pair = iter(test_loader).next()\n",
    "testimg = pair[0]\n",
    "label = pair[1]\n",
    "testimg = Variable(testimg).cuda()\n",
    "rec = P(Q(testimg.view([1,784])))\n",
    "rec = rec[0].cpu().data.numpy().reshape([28,28])\n",
    "plt.clf()\n",
    "plt.imshow(testimg.data.cpu().numpy()[0][0][:], cmap='gray')\n",
    "plt.show()\n",
    "\n",
    "plt.clf()\n",
    "plt.imshow(rec, cmap='gray')\n",
    "plt.show()\n",
    "\n",
    "\n",
    "#################################################\n",
    "\n",
    "plt.clf()\n",
    "plt.scatter(List0x,List0y,label='0', s=20)\n",
    "plt.scatter(List1x,List1y,label='1', s=20)\n",
    "plt.scatter(List2x,List2y,label='2', s=20)\n",
    "plt.scatter(List3x,List3y,label='3', s=20)\n",
    "plt.scatter(List4x,List4y,label='4', s=20)\n",
    "plt.scatter(List5x,List5y,label='5', s=20)\n",
    "plt.legend()\n",
    "\n",
    "print('Len list')\n",
    "print(len(List0x))\n",
    "print(len(List1x))\n",
    "print(len(List2x))\n",
    "print(len(List3x))\n",
    "print(len(List4x))\n",
    "print(len(List5x))\n",
    "\n",
    "pair = iter(test_loader).next()\n",
    "testimg = pair[0]\n",
    "label = pair[1]\n",
    "testimg = Variable(testimg).cuda()\n",
    "rec = P(Q(testimg.view([1,784])))\n",
    "plt.savefig('./AE4.png',dpi = 300)\n",
    "plt.show()"
   ]
  },
  {
   "cell_type": "code",
   "execution_count": 31,
   "metadata": {
    "collapsed": false
   },
   "outputs": [
    {
     "data": {
      "image/png": "[encoded data removed]",
      "text/plain": [
       "<matplotlib.figure.Figure at 0x7fbba175b470>"
      ]
     },
     "metadata": {},
     "output_type": "display_data"
    }
   ],
   "source": [
    "plt.plot(LossEpoch)\n",
    "plt.show()"
   ]
  },
  {
   "cell_type": "code",
   "execution_count": 25,
   "metadata": {
    "collapsed": false
   },
   "outputs": [
    {
     "data": {
      "text/plain": [
       "\n",
       "-0.6356  0.9315 -0.3878 -0.7353 -0.9383\n",
       "-0.6360  0.5631 -0.4559  2.7888 -0.2606\n",
       " 0.6651 -1.7885  0.7700 -1.3776 -2.8633\n",
       "-0.0805  0.7619  1.8151  1.2700  0.8875\n",
       " 0.6232 -0.6322  0.1727 -0.0022 -0.3455\n",
       "[torch.FloatTensor of size 5x5]"
      ]
     },
     "execution_count": 25,
     "metadata": {},
     "output_type": "execute_result"
    }
   ],
   "source": [
    "torch.normal(torch.zeros([5,5]))"
   ]
  },
  {
   "cell_type": "code",
   "execution_count": null,
   "metadata": {
    "collapsed": true
   },
   "outputs": [],
   "source": []
  }
 ],
 "metadata": {
  "kernelspec": {
   "display_name": "Python 3",
   "language": "python",
   "name": "python3"
  },
  "language_info": {
   "codemirror_mode": {
    "name": "ipython",
    "version": 3
   },
   "file_extension": ".py",
   "mimetype": "text/x-python",
   "name": "python",
   "nbconvert_exporter": "python",
   "pygments_lexer": "ipython3",
   "version": "3.6.0"
  }
 },
 "nbformat": 4,
 "nbformat_minor": 2
}
