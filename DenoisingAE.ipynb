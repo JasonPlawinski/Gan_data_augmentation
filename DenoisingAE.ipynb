{
 "cells": [
  {
   "cell_type": "code",
   "execution_count": 1,
   "metadata": {
    "collapsed": true
   },
   "outputs": [],
   "source": [
    "import math\n",
    "import pickle\n",
    "import torch\n",
    "import torch.nn as nn\n",
    "import numpy as np\n",
    "import math, random\n",
    "import torchvision\n",
    "from torchvision import datasets, transforms\n",
    "import torch.optim as optim\n",
    "from torch.autograd import Variable\n",
    "import torch.backends.cudnn as cudnn\n",
    "import matplotlib\n",
    "import matplotlib.pyplot as plt"
   ]
  },
  {
   "cell_type": "code",
   "execution_count": 2,
   "metadata": {
    "collapsed": true
   },
   "outputs": [],
   "source": [
    "batch_size = 100\n",
    "\n",
    "mnist_train = datasets.MNIST('./MNIST/', train=True, transform=transforms.ToTensor(), target_transform=None, download=True)\n",
    "mnist_test  = datasets.MNIST('/MNIST/', train=False, transform=transforms.ToTensor(), target_transform=None, download=True)\n",
    "\n",
    "train_loader = torch.utils.data.DataLoader(dataset=mnist_train,batch_size=batch_size,shuffle=True)\n",
    "test_loader = torch.utils.data.DataLoader(dataset=mnist_test,batch_size=1,shuffle=True)"
   ]
  },
  {
   "cell_type": "code",
   "execution_count": 19,
   "metadata": {
    "collapsed": true
   },
   "outputs": [],
   "source": [
    "#Encoder\n",
    "class Encoder_net(nn.Module):\n",
    "    def __init__(self):\n",
    "        super(Encoder_net, self).__init__()\n",
    "        self.layers = nn.Sequential(\n",
    "            nn.Linear(X_dim, N),\n",
    "            nn.Dropout(p=prob),\n",
    "            nn.LeakyReLU(0.2, inplace=True),\n",
    "            \n",
    "            nn.Linear(N, N),\n",
    "            nn.Dropout(p=prob),\n",
    "            nn.LeakyReLU(0.2, inplace=True),\n",
    "            \n",
    "            nn.Linear(N, N),\n",
    "            nn.Dropout(p=prob),\n",
    "            nn.LeakyReLU(0.2, inplace=True),\n",
    "            \n",
    "            nn.Linear(N, N),\n",
    "            nn.Dropout(p=prob),\n",
    "            nn.LeakyReLU(0.2, inplace=True),\n",
    "            \n",
    "            nn.Linear(N, N0),\n",
    "            nn.Dropout(p=prob),\n",
    "            nn.LeakyReLU(0.2, inplace=True),\n",
    "            \n",
    "            nn.Linear(N0, z_dim)        \n",
    "            )\n",
    "    def forward(self, x):\n",
    "        xgauss = self.layers(x)\n",
    "        return xgauss"
   ]
  },
  {
   "cell_type": "code",
   "execution_count": 20,
   "metadata": {
    "collapsed": true
   },
   "outputs": [],
   "source": [
    "# Decoder\n",
    "class Decoder_net(nn.Module):\n",
    "    def __init__(self):\n",
    "        super(Decoder_net, self).__init__()\n",
    "        self.layers = nn.Sequential(\n",
    "            nn.Linear(z_dim, N0),\n",
    "            nn.Dropout(p=prob),\n",
    "            nn.LeakyReLU(0.2, inplace=True),\n",
    "            \n",
    "            nn.Linear(N0, N),\n",
    "            nn.Dropout(p=prob),\n",
    "            nn.LeakyReLU(0.2, inplace=True),\n",
    "            \n",
    "            nn.Linear(N, N),\n",
    "            nn.Dropout(p=prob),\n",
    "            nn.LeakyReLU(0.2, inplace=True),\n",
    "            \n",
    "            nn.Linear(N, N),\n",
    "            nn.Dropout(p=prob),\n",
    "            nn.LeakyReLU(0.2, inplace=True),\n",
    "            \n",
    "            nn.Linear(N, N),\n",
    "            nn.Dropout(p=prob),\n",
    "            nn.LeakyReLU(0.2, inplace=True),\n",
    "            \n",
    "            nn.Linear(N, X_dim),\n",
    "            nn.Sigmoid()\n",
    "            )\n",
    "        \n",
    "    def forward(self, x):\n",
    "        out = self.layers(x)\n",
    "        return out"
   ]
  },
  {
   "cell_type": "code",
   "execution_count": 21,
   "metadata": {
    "collapsed": true
   },
   "outputs": [],
   "source": [
    "def Corrupt_Gaussian(Image, sigma):\n",
    "    print(Image.size())\n",
    "    GN = Image + torch.normal(torch.zeros(Image.size()))*sigma\n",
    "    GN[GN<0] = 0\n",
    "    GN[GN>1] = 1\n",
    "    return GN"
   ]
  },
  {
   "cell_type": "code",
   "execution_count": 1,
   "metadata": {
    "collapsed": false
   },
   "outputs": [
    {
     "ename": "NameError",
     "evalue": "name 'torch' is not defined",
     "output_type": "error",
     "traceback": [
      "\u001b[0;31m---------------------------------------------------------------------------\u001b[0m",
      "\u001b[0;31mNameError\u001b[0m                                 Traceback (most recent call last)",
      "\u001b[0;32m<ipython-input-1-b281e522f230>\u001b[0m in \u001b[0;36m<module>\u001b[0;34m()\u001b[0m\n\u001b[1;32m      5\u001b[0m \u001b[0mz_dim\u001b[0m \u001b[0;34m=\u001b[0m \u001b[0;36m2\u001b[0m\u001b[0;34m\u001b[0m\u001b[0m\n\u001b[1;32m      6\u001b[0m \u001b[0;34m\u001b[0m\u001b[0m\n\u001b[0;32m----> 7\u001b[0;31m \u001b[0mtorch\u001b[0m\u001b[0;34m.\u001b[0m\u001b[0mmanual_seed\u001b[0m\u001b[0;34m(\u001b[0m\u001b[0;36m10\u001b[0m\u001b[0;34m)\u001b[0m\u001b[0;34m\u001b[0m\u001b[0m\n\u001b[0m\u001b[1;32m      8\u001b[0m \u001b[0mEncoder\u001b[0m \u001b[0;34m=\u001b[0m \u001b[0mEncoder_net\u001b[0m\u001b[0;34m(\u001b[0m\u001b[0;34m)\u001b[0m\u001b[0;34m\u001b[0m\u001b[0m\n\u001b[1;32m      9\u001b[0m \u001b[0mDecoder\u001b[0m \u001b[0;34m=\u001b[0m \u001b[0mDecoder_net\u001b[0m\u001b[0;34m(\u001b[0m\u001b[0;34m)\u001b[0m     \u001b[0;31m# Encoder/Decoder\u001b[0m\u001b[0;34m\u001b[0m\u001b[0m\n",
      "\u001b[0;31mNameError\u001b[0m: name 'torch' is not defined"
     ]
    }
   ],
   "source": [
    "prob = 0.2\n",
    "X_dim = 784\n",
    "N = 600\n",
    "N0 = 150\n",
    "z_dim = 2\n",
    "\n",
    "torch.manual_seed(10)\n",
    "Encoder = Encoder_net()\n",
    "Decoder = Decoder_net()     # Encoder/Decoder\n",
    "\n",
    "Encoder = Encoder.cuda()\n",
    "Decoder = Decoder.cuda()\n",
    "# Set learning rates\n",
    "gen_lr, reg_lr = 0.0004, 0.0008\n",
    "# Set optimizators\n",
    "Encoder_grad = optim.Adam(Encoder.parameters(), lr=gen_lr)\n",
    "Decoder_grad = optim.Adam(Decoder.parameters(), lr=gen_lr)\n",
    "\n",
    "criterionL2 = nn.MSELoss().cuda()\n",
    "\n",
    "TINY = 1e-8\n",
    "LossEpoch = []\n",
    "\n",
    "for i in range(1):\n",
    "    if i ==0:\n",
    "        print('Start')\n",
    "    loss = []\n",
    "    for batch, label in train_loader:\n",
    "        X = batch.view([100,1,784])\n",
    "        X_corrupt = Corrupt_Gaussian(X,3)\n",
    "        X = Variable(X).cuda()\n",
    "        X_corrupt = Variable(X_corrupt).cuda()\n",
    "        z_sample = Encoder(X_corrupt)\n",
    "        X_sample = Decoder(z_sample)\n",
    "        recon_loss = criterionL2(X_sample, X)\n",
    "        Encoder_grad.zero_grad()\n",
    "        Decoder_grad.zero_grad()\n",
    "        recon_loss.backward()\n",
    "        Encoder_grad.step()\n",
    "        Decoder_grad.step()\n",
    "        loss.append(recon_loss.data)\n",
    "    l = np.mean(np.array(loss)).cpu().numpy()\n",
    "    print(i ,l[0])\n",
    "    LossEpoch.append(l)"
   ]
  },
  {
   "cell_type": "code",
   "execution_count": null,
   "metadata": {
    "collapsed": true
   },
   "outputs": [],
   "source": []
  },
  {
   "cell_type": "code",
   "execution_count": null,
   "metadata": {
    "collapsed": true
   },
   "outputs": [],
   "source": []
  }
 ],
 "metadata": {
  "kernelspec": {
   "display_name": "Python 3",
   "language": "python",
   "name": "python3"
  },
  "language_info": {
   "codemirror_mode": {
    "name": "ipython",
    "version": 3
   },
   "file_extension": ".py",
   "mimetype": "text/x-python",
   "name": "python",
   "nbconvert_exporter": "python",
   "pygments_lexer": "ipython3",
   "version": "3.6.0"
  }
 },
 "nbformat": 4,
 "nbformat_minor": 2
}
